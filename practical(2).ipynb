{
  "nbformat": 4,
  "nbformat_minor": 0,
  "metadata": {
    "colab": {
      "private_outputs": true,
      "provenance": [],
      "authorship_tag": "ABX9TyN8HqjCi8HV/1ky27NIf9J+",
      "include_colab_link": true
    },
    "kernelspec": {
      "name": "python3",
      "display_name": "Python 3"
    },
    "language_info": {
      "name": "python"
    }
  },
  "cells": [
    {
      "cell_type": "markdown",
      "metadata": {
        "id": "view-in-github",
        "colab_type": "text"
      },
      "source": [
        "<a href=\"https://colab.research.google.com/github/samruddhi-lghthm/Data-structure/blob/main/practical(2).ipynb\" target=\"_parent\"><img src=\"https://colab.research.google.com/assets/colab-badge.svg\" alt=\"Open In Colab\"/></a>"
      ]
    },
    {
      "cell_type": "markdown",
      "source": [
        "2. Create a Python function that accepts a string and returns the reverse of that string."
      ],
      "metadata": {
        "id": "IPTNjCz7ODOR"
      }
    },
    {
      "cell_type": "code",
      "source": [
        "#reverse string\n",
        "string = \"Data function\"\n",
        "reverse = \"\"\n",
        "for i in range(len(string)):\n",
        "    reverse = string[i]+reverse\n",
        "    print(reverse)\n",
        "\n"
      ],
      "metadata": {
        "id": "Rb4ovDVwOCUH"
      },
      "execution_count": null,
      "outputs": []
    },
    {
      "cell_type": "code",
      "source": [],
      "metadata": {
        "id": "2KjF0CJXP7IN"
      },
      "execution_count": null,
      "outputs": []
    }
  ]
}